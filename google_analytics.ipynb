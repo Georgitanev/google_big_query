{
  "nbformat": 4,
  "nbformat_minor": 0,
  "metadata": {
    "colab": {
      "name": "google_analytics.ipynb",
      "provenance": [],
      "collapsed_sections": [],
      "authorship_tag": "ABX9TyOplF/gi18dWvqW7da36WEY",
      "include_colab_link": true
    },
    "kernelspec": {
      "name": "python3",
      "display_name": "Python 3"
    }
  },
  "cells": [
    {
      "cell_type": "markdown",
      "metadata": {
        "id": "view-in-github",
        "colab_type": "text"
      },
      "source": [
        "<a href=\"https://colab.research.google.com/github/Georgitanev/google_big_query/blob/main/google_analytics.ipynb\" target=\"_parent\"><img src=\"https://colab.research.google.com/assets/colab-badge.svg\" alt=\"Open In Colab\"/></a>"
      ]
    },
    {
      "cell_type": "markdown",
      "metadata": {
        "id": "kqzj74T0OA9i"
      },
      "source": [
        "**Table and graphics from Google Analytics public dataset**\n",
        "\n",
        "\n"
      ]
    },
    {
      "cell_type": "code",
      "metadata": {
        "id": "WGgVhVzd-YfP",
        "outputId": "b5486338-1078-48ca-a122-b6abb3f0ccd6",
        "colab": {
          "base_uri": "https://localhost:8080/",
          "height": 151
        }
      },
      "source": [
        "import os\n",
        "import pandas as pd\n",
        "from google.cloud import bigquery\n",
        "import matplotlib.pyplot as plt\n",
        "\n",
        "\n",
        "json_path = \"/content/content/analytics/big-query-284408-e895d0eb5b23.json\"\n",
        "os.environ[\"GOOGLE_APPLICATION_CREDENTIALS\"]=json_path\n",
        "\n",
        "client = bigquery.Client()         # Start the BigQuery Client\n",
        "# Input your Query Syntax here; You may try it first at https://console.cloud.google.com/bigquery\n",
        "sql = \"\"\"SELECT *\n",
        "              FROM `bigquery-public-data.google_analytics_sample.ga_sessions_20170801`\n",
        "              LIMIT 1\"\"\"\n",
        "\n",
        "# I am using low limits, because I have some limits in Google Big Query\n",
        "df = client.query(sql).to_dataframe()\n",
        "df.head()\n",
        "\n",
        "# Explore data"
      ],
      "execution_count": null,
      "outputs": [
        {
          "output_type": "execute_result",
          "data": {
            "text/html": [
              "<div>\n",
              "<style scoped>\n",
              "    .dataframe tbody tr th:only-of-type {\n",
              "        vertical-align: middle;\n",
              "    }\n",
              "\n",
              "    .dataframe tbody tr th {\n",
              "        vertical-align: top;\n",
              "    }\n",
              "\n",
              "    .dataframe thead th {\n",
              "        text-align: right;\n",
              "    }\n",
              "</style>\n",
              "<table border=\"1\" class=\"dataframe\">\n",
              "  <thead>\n",
              "    <tr style=\"text-align: right;\">\n",
              "      <th></th>\n",
              "      <th>visitorId</th>\n",
              "      <th>visitNumber</th>\n",
              "      <th>visitId</th>\n",
              "      <th>visitStartTime</th>\n",
              "      <th>date</th>\n",
              "      <th>totals</th>\n",
              "      <th>trafficSource</th>\n",
              "      <th>device</th>\n",
              "      <th>geoNetwork</th>\n",
              "      <th>customDimensions</th>\n",
              "      <th>hits</th>\n",
              "      <th>fullVisitorId</th>\n",
              "      <th>userId</th>\n",
              "      <th>clientId</th>\n",
              "      <th>channelGrouping</th>\n",
              "      <th>socialEngagementType</th>\n",
              "    </tr>\n",
              "  </thead>\n",
              "  <tbody>\n",
              "    <tr>\n",
              "      <th>0</th>\n",
              "      <td>None</td>\n",
              "      <td>1</td>\n",
              "      <td>1501583974</td>\n",
              "      <td>1501583974</td>\n",
              "      <td>20170801</td>\n",
              "      <td>{'visits': 1, 'hits': 1, 'pageviews': 1, 'time...</td>\n",
              "      <td>{'referralPath': None, 'campaign': '(not set)'...</td>\n",
              "      <td>{'browser': 'Chrome', 'browserVersion': 'not a...</td>\n",
              "      <td>{'continent': 'Americas', 'subContinent': 'Car...</td>\n",
              "      <td>[]</td>\n",
              "      <td>[{'hitNumber': 1, 'time': 0, 'hour': 3, 'minut...</td>\n",
              "      <td>2248281639583218707</td>\n",
              "      <td>None</td>\n",
              "      <td>None</td>\n",
              "      <td>Organic Search</td>\n",
              "      <td>Not Socially Engaged</td>\n",
              "    </tr>\n",
              "  </tbody>\n",
              "</table>\n",
              "</div>"
            ],
            "text/plain": [
              "  visitorId  visitNumber  ...  channelGrouping  socialEngagementType\n",
              "0      None            1  ...   Organic Search  Not Socially Engaged\n",
              "\n",
              "[1 rows x 16 columns]"
            ]
          },
          "metadata": {
            "tags": []
          },
          "execution_count": 107
        }
      ]
    },
    {
      "cell_type": "markdown",
      "metadata": {
        "id": "UABXeO384M98"
      },
      "source": [
        "Date,\tchannel,\tvisits,\ttransactions,\ttransaction revenue"
      ]
    },
    {
      "cell_type": "code",
      "metadata": {
        "id": "UHXLV-8m4JUj",
        "outputId": "cbf3be12-d992-435b-fb14-e2c1731fd3db",
        "colab": {
          "base_uri": "https://localhost:8080/",
          "height": 204
        }
      },
      "source": [
        "# query by BigQuery Google Analytics tutorial\n",
        "sql = \"\"\"SELECT\n",
        "                    date,\n",
        "                    channelGrouping as channel,\n",
        "                    totals.visits,\n",
        "                    totals.transactions,\n",
        "                    totals.transactionRevenue\n",
        "                    FROM `bigquery-public-data.google_analytics_sample.ga_sessions_20170801`\n",
        "                    LIMIT 5\"\"\"\n",
        "\n",
        "def get_data(sql):\n",
        "  df = client.query(sql).to_dataframe()\n",
        "  df['date'] = pd.to_datetime(df.date).dt.strftime('%Y-%m--%d')\n",
        "  return df\n",
        "\n",
        "df = get_data(sql)\n",
        "df.head()"
      ],
      "execution_count": null,
      "outputs": [
        {
          "output_type": "execute_result",
          "data": {
            "text/html": [
              "<div>\n",
              "<style scoped>\n",
              "    .dataframe tbody tr th:only-of-type {\n",
              "        vertical-align: middle;\n",
              "    }\n",
              "\n",
              "    .dataframe tbody tr th {\n",
              "        vertical-align: top;\n",
              "    }\n",
              "\n",
              "    .dataframe thead th {\n",
              "        text-align: right;\n",
              "    }\n",
              "</style>\n",
              "<table border=\"1\" class=\"dataframe\">\n",
              "  <thead>\n",
              "    <tr style=\"text-align: right;\">\n",
              "      <th></th>\n",
              "      <th>date</th>\n",
              "      <th>channel</th>\n",
              "      <th>visits</th>\n",
              "      <th>transactions</th>\n",
              "      <th>transactionRevenue</th>\n",
              "    </tr>\n",
              "  </thead>\n",
              "  <tbody>\n",
              "    <tr>\n",
              "      <th>0</th>\n",
              "      <td>2017-08--01</td>\n",
              "      <td>Organic Search</td>\n",
              "      <td>1</td>\n",
              "      <td>None</td>\n",
              "      <td>None</td>\n",
              "    </tr>\n",
              "    <tr>\n",
              "      <th>1</th>\n",
              "      <td>2017-08--01</td>\n",
              "      <td>Organic Search</td>\n",
              "      <td>1</td>\n",
              "      <td>None</td>\n",
              "      <td>None</td>\n",
              "    </tr>\n",
              "    <tr>\n",
              "      <th>2</th>\n",
              "      <td>2017-08--01</td>\n",
              "      <td>Organic Search</td>\n",
              "      <td>1</td>\n",
              "      <td>None</td>\n",
              "      <td>None</td>\n",
              "    </tr>\n",
              "    <tr>\n",
              "      <th>3</th>\n",
              "      <td>2017-08--01</td>\n",
              "      <td>Direct</td>\n",
              "      <td>1</td>\n",
              "      <td>None</td>\n",
              "      <td>None</td>\n",
              "    </tr>\n",
              "    <tr>\n",
              "      <th>4</th>\n",
              "      <td>2017-08--01</td>\n",
              "      <td>Organic Search</td>\n",
              "      <td>1</td>\n",
              "      <td>None</td>\n",
              "      <td>None</td>\n",
              "    </tr>\n",
              "  </tbody>\n",
              "</table>\n",
              "</div>"
            ],
            "text/plain": [
              "          date         channel  visits transactions transactionRevenue\n",
              "0  2017-08--01  Organic Search       1         None               None\n",
              "1  2017-08--01  Organic Search       1         None               None\n",
              "2  2017-08--01  Organic Search       1         None               None\n",
              "3  2017-08--01          Direct       1         None               None\n",
              "4  2017-08--01  Organic Search       1         None               None"
            ]
          },
          "metadata": {
            "tags": []
          },
          "execution_count": 109
        }
      ]
    },
    {
      "cell_type": "markdown",
      "metadata": {
        "id": "1YBB4d9difRv"
      },
      "source": [
        "Select date, channel, visits, transactions and transaction revenue - first 100 results"
      ]
    },
    {
      "cell_type": "markdown",
      "metadata": {
        "id": "AusdPjCXnj83"
      },
      "source": [
        "Direct visitors and organic search data: ordered by transaction revenue\n"
      ]
    },
    {
      "cell_type": "code",
      "metadata": {
        "id": "bnxCr0venk0n",
        "outputId": "c8e29777-7e16-4489-e972-a4be04e7beb6",
        "colab": {
          "base_uri": "https://localhost:8080/",
          "height": 204
        }
      },
      "source": [
        "sql =\"\"\"SELECT\n",
        "                      date,\n",
        "                      channelGrouping as channel,\n",
        "                      totals.visits,\n",
        "                      totals.transactions,\n",
        "                      totals.transactionRevenue\n",
        "                      FROM `bigquery-public-data.google_analytics_sample.ga_sessions_20170801`\n",
        "                      WHERE channelGrouping in ('Direct', 'Organic Search')\n",
        "                      ORDER BY totals.transactionRevenue desc LIMIT 5\"\"\"\n",
        "\n",
        "df = get_data(sql)\n",
        "df.head()"
      ],
      "execution_count": null,
      "outputs": [
        {
          "output_type": "execute_result",
          "data": {
            "text/html": [
              "<div>\n",
              "<style scoped>\n",
              "    .dataframe tbody tr th:only-of-type {\n",
              "        vertical-align: middle;\n",
              "    }\n",
              "\n",
              "    .dataframe tbody tr th {\n",
              "        vertical-align: top;\n",
              "    }\n",
              "\n",
              "    .dataframe thead th {\n",
              "        text-align: right;\n",
              "    }\n",
              "</style>\n",
              "<table border=\"1\" class=\"dataframe\">\n",
              "  <thead>\n",
              "    <tr style=\"text-align: right;\">\n",
              "      <th></th>\n",
              "      <th>date</th>\n",
              "      <th>channel</th>\n",
              "      <th>visits</th>\n",
              "      <th>transactions</th>\n",
              "      <th>transactionRevenue</th>\n",
              "    </tr>\n",
              "  </thead>\n",
              "  <tbody>\n",
              "    <tr>\n",
              "      <th>0</th>\n",
              "      <td>2017-08--01</td>\n",
              "      <td>Direct</td>\n",
              "      <td>1</td>\n",
              "      <td>1</td>\n",
              "      <td>1000780000</td>\n",
              "    </tr>\n",
              "    <tr>\n",
              "      <th>1</th>\n",
              "      <td>2017-08--01</td>\n",
              "      <td>Direct</td>\n",
              "      <td>1</td>\n",
              "      <td>1</td>\n",
              "      <td>982730000</td>\n",
              "    </tr>\n",
              "    <tr>\n",
              "      <th>2</th>\n",
              "      <td>2017-08--01</td>\n",
              "      <td>Organic Search</td>\n",
              "      <td>1</td>\n",
              "      <td>1</td>\n",
              "      <td>400210000</td>\n",
              "    </tr>\n",
              "    <tr>\n",
              "      <th>3</th>\n",
              "      <td>2017-08--01</td>\n",
              "      <td>Direct</td>\n",
              "      <td>1</td>\n",
              "      <td>1</td>\n",
              "      <td>347140000</td>\n",
              "    </tr>\n",
              "    <tr>\n",
              "      <th>4</th>\n",
              "      <td>2017-08--01</td>\n",
              "      <td>Organic Search</td>\n",
              "      <td>1</td>\n",
              "      <td>1</td>\n",
              "      <td>169900000</td>\n",
              "    </tr>\n",
              "  </tbody>\n",
              "</table>\n",
              "</div>"
            ],
            "text/plain": [
              "          date         channel  visits  transactions  transactionRevenue\n",
              "0  2017-08--01          Direct       1             1          1000780000\n",
              "1  2017-08--01          Direct       1             1           982730000\n",
              "2  2017-08--01  Organic Search       1             1           400210000\n",
              "3  2017-08--01          Direct       1             1           347140000\n",
              "4  2017-08--01  Organic Search       1             1           169900000"
            ]
          },
          "metadata": {
            "tags": []
          },
          "execution_count": 110
        }
      ]
    },
    {
      "cell_type": "markdown",
      "metadata": {
        "id": "eWxR6jPYofeA"
      },
      "source": [
        "Aggregate transaction totals"
      ]
    },
    {
      "cell_type": "code",
      "metadata": {
        "id": "KCjzarxwogL3",
        "outputId": "a647cb04-1f10-4754-df1c-15650e5b1b09",
        "colab": {
          "base_uri": "https://localhost:8080/",
          "height": 204
        }
      },
      "source": [
        "# query by BigQuery Google Analytics tutorial\n",
        "query_organic_direct = \"\"\"SELECT date, channelGrouping as channel,\n",
        "                                          sum(totals.visits) as visits, \n",
        "                                          CASE WHEN sum(totals.visits) > 0 THEN sum(totals.transactions) / sum(totals.visits) \n",
        "                                          ELSE 0 END as conv_rate, \n",
        "                                          sum(totals.transactions) as transactions, \n",
        "                                          CASE WHEN sum(totals.transactions) > 0 THEN\n",
        "                                          sum(totals.transactionRevenue) / sum(totals.transactions)\n",
        "                                          ELSE 0 END as aov,\n",
        "                                          sum(totals.transactionRevenue) as revenue \n",
        "                                          FROM `bigquery-public-data.google_analytics_sample.ga_sessions_20170801`\n",
        "                                          WHERE channelGrouping in ('Organic Search', 'Direct') \n",
        "                                          GROUP BY date, channel\n",
        "                                          ORDER BY transactions \n",
        "                                          desc LIMIT 1000\"\"\"\n",
        "\n",
        "df = get_data(sql)\n",
        "df.head()"
      ],
      "execution_count": null,
      "outputs": [
        {
          "output_type": "execute_result",
          "data": {
            "text/html": [
              "<div>\n",
              "<style scoped>\n",
              "    .dataframe tbody tr th:only-of-type {\n",
              "        vertical-align: middle;\n",
              "    }\n",
              "\n",
              "    .dataframe tbody tr th {\n",
              "        vertical-align: top;\n",
              "    }\n",
              "\n",
              "    .dataframe thead th {\n",
              "        text-align: right;\n",
              "    }\n",
              "</style>\n",
              "<table border=\"1\" class=\"dataframe\">\n",
              "  <thead>\n",
              "    <tr style=\"text-align: right;\">\n",
              "      <th></th>\n",
              "      <th>date</th>\n",
              "      <th>channel</th>\n",
              "      <th>visits</th>\n",
              "      <th>transactions</th>\n",
              "      <th>transactionRevenue</th>\n",
              "    </tr>\n",
              "  </thead>\n",
              "  <tbody>\n",
              "    <tr>\n",
              "      <th>0</th>\n",
              "      <td>2017-08--01</td>\n",
              "      <td>Direct</td>\n",
              "      <td>1</td>\n",
              "      <td>1</td>\n",
              "      <td>1000780000</td>\n",
              "    </tr>\n",
              "    <tr>\n",
              "      <th>1</th>\n",
              "      <td>2017-08--01</td>\n",
              "      <td>Direct</td>\n",
              "      <td>1</td>\n",
              "      <td>1</td>\n",
              "      <td>982730000</td>\n",
              "    </tr>\n",
              "    <tr>\n",
              "      <th>2</th>\n",
              "      <td>2017-08--01</td>\n",
              "      <td>Organic Search</td>\n",
              "      <td>1</td>\n",
              "      <td>1</td>\n",
              "      <td>400210000</td>\n",
              "    </tr>\n",
              "    <tr>\n",
              "      <th>3</th>\n",
              "      <td>2017-08--01</td>\n",
              "      <td>Direct</td>\n",
              "      <td>1</td>\n",
              "      <td>1</td>\n",
              "      <td>347140000</td>\n",
              "    </tr>\n",
              "    <tr>\n",
              "      <th>4</th>\n",
              "      <td>2017-08--01</td>\n",
              "      <td>Organic Search</td>\n",
              "      <td>1</td>\n",
              "      <td>1</td>\n",
              "      <td>169900000</td>\n",
              "    </tr>\n",
              "  </tbody>\n",
              "</table>\n",
              "</div>"
            ],
            "text/plain": [
              "          date         channel  visits  transactions  transactionRevenue\n",
              "0  2017-08--01          Direct       1             1          1000780000\n",
              "1  2017-08--01          Direct       1             1           982730000\n",
              "2  2017-08--01  Organic Search       1             1           400210000\n",
              "3  2017-08--01          Direct       1             1           347140000\n",
              "4  2017-08--01  Organic Search       1             1           169900000"
            ]
          },
          "metadata": {
            "tags": []
          },
          "execution_count": 112
        }
      ]
    },
    {
      "cell_type": "markdown",
      "metadata": {
        "id": "q3WXgnM_XpDv"
      },
      "source": [
        "**all channels**\n"
      ]
    },
    {
      "cell_type": "code",
      "metadata": {
        "id": "TO8LEXCusMRI"
      },
      "source": [
        "%matplotlib inline"
      ],
      "execution_count": null,
      "outputs": []
    },
    {
      "cell_type": "code",
      "metadata": {
        "id": "X0RbvnUZDSDH",
        "outputId": "bf4d2c6d-d058-4054-a8ad-e8b48c2859a4",
        "colab": {
          "base_uri": "https://localhost:8080/",
          "height": 266
        }
      },
      "source": [
        "%%bigquery \n",
        "# this gives option to run BigQuery statements directly in Jupyter\n",
        "\n",
        "SELECT distinct(channelGrouping)\n",
        "FROM `bigquery-public-data.google_analytics_sample.ga_sessions_20170801`\n",
        "\n",
        "LIMIT 10"
      ],
      "execution_count": null,
      "outputs": [
        {
          "output_type": "execute_result",
          "data": {
            "text/html": [
              "<div>\n",
              "<style scoped>\n",
              "    .dataframe tbody tr th:only-of-type {\n",
              "        vertical-align: middle;\n",
              "    }\n",
              "\n",
              "    .dataframe tbody tr th {\n",
              "        vertical-align: top;\n",
              "    }\n",
              "\n",
              "    .dataframe thead th {\n",
              "        text-align: right;\n",
              "    }\n",
              "</style>\n",
              "<table border=\"1\" class=\"dataframe\">\n",
              "  <thead>\n",
              "    <tr style=\"text-align: right;\">\n",
              "      <th></th>\n",
              "      <th>channelGrouping</th>\n",
              "    </tr>\n",
              "  </thead>\n",
              "  <tbody>\n",
              "    <tr>\n",
              "      <th>0</th>\n",
              "      <td>Organic Search</td>\n",
              "    </tr>\n",
              "    <tr>\n",
              "      <th>1</th>\n",
              "      <td>Direct</td>\n",
              "    </tr>\n",
              "    <tr>\n",
              "      <th>2</th>\n",
              "      <td>Referral</td>\n",
              "    </tr>\n",
              "    <tr>\n",
              "      <th>3</th>\n",
              "      <td>Paid Search</td>\n",
              "    </tr>\n",
              "    <tr>\n",
              "      <th>4</th>\n",
              "      <td>Display</td>\n",
              "    </tr>\n",
              "    <tr>\n",
              "      <th>5</th>\n",
              "      <td>Affiliates</td>\n",
              "    </tr>\n",
              "    <tr>\n",
              "      <th>6</th>\n",
              "      <td>Social</td>\n",
              "    </tr>\n",
              "  </tbody>\n",
              "</table>\n",
              "</div>"
            ],
            "text/plain": [
              "  channelGrouping\n",
              "0  Organic Search\n",
              "1          Direct\n",
              "2        Referral\n",
              "3     Paid Search\n",
              "4         Display\n",
              "5      Affiliates\n",
              "6          Social"
            ]
          },
          "metadata": {
            "tags": []
          },
          "execution_count": 116
        }
      ]
    },
    {
      "cell_type": "markdown",
      "metadata": {
        "id": "3x-ZHvqwARBd"
      },
      "source": [
        "Number of visitors per date, by channel - Organic Search and Paid Search"
      ]
    },
    {
      "cell_type": "code",
      "metadata": {
        "id": "__bvPJ4p-uAF",
        "outputId": "fe8d5707-75ab-4185-9404-5057b7e5d889",
        "colab": {
          "base_uri": "https://localhost:8080/",
          "height": 204
        }
      },
      "source": [
        "sql = \"\"\"SELECT distinct(date), channelGrouping as channel, count(totals.visits) as visitors_num, \n",
        "FROM `bigquery-public-data.google_analytics_sample.ga_sessions_*`\n",
        "WHERE channelGrouping like '%Search'\n",
        "GROUP BY date, channel\n",
        "ORDER BY date\n",
        "LIMIT 20 \"\"\"\n",
        "\n",
        "df = get_data(sql)\n",
        "df.head()\n",
        "\n"
      ],
      "execution_count": null,
      "outputs": [
        {
          "output_type": "execute_result",
          "data": {
            "text/html": [
              "<div>\n",
              "<style scoped>\n",
              "    .dataframe tbody tr th:only-of-type {\n",
              "        vertical-align: middle;\n",
              "    }\n",
              "\n",
              "    .dataframe tbody tr th {\n",
              "        vertical-align: top;\n",
              "    }\n",
              "\n",
              "    .dataframe thead th {\n",
              "        text-align: right;\n",
              "    }\n",
              "</style>\n",
              "<table border=\"1\" class=\"dataframe\">\n",
              "  <thead>\n",
              "    <tr style=\"text-align: right;\">\n",
              "      <th></th>\n",
              "      <th>date</th>\n",
              "      <th>channel</th>\n",
              "      <th>visitors_num</th>\n",
              "    </tr>\n",
              "  </thead>\n",
              "  <tbody>\n",
              "    <tr>\n",
              "      <th>0</th>\n",
              "      <td>2016-08--01</td>\n",
              "      <td>Organic Search</td>\n",
              "      <td>362</td>\n",
              "    </tr>\n",
              "    <tr>\n",
              "      <th>1</th>\n",
              "      <td>2016-08--01</td>\n",
              "      <td>Paid Search</td>\n",
              "      <td>25</td>\n",
              "    </tr>\n",
              "    <tr>\n",
              "      <th>2</th>\n",
              "      <td>2016-08--02</td>\n",
              "      <td>Paid Search</td>\n",
              "      <td>48</td>\n",
              "    </tr>\n",
              "    <tr>\n",
              "      <th>3</th>\n",
              "      <td>2016-08--02</td>\n",
              "      <td>Organic Search</td>\n",
              "      <td>663</td>\n",
              "    </tr>\n",
              "    <tr>\n",
              "      <th>4</th>\n",
              "      <td>2016-08--03</td>\n",
              "      <td>Paid Search</td>\n",
              "      <td>63</td>\n",
              "    </tr>\n",
              "  </tbody>\n",
              "</table>\n",
              "</div>"
            ],
            "text/plain": [
              "          date         channel  visitors_num\n",
              "0  2016-08--01  Organic Search           362\n",
              "1  2016-08--01     Paid Search            25\n",
              "2  2016-08--02     Paid Search            48\n",
              "3  2016-08--02  Organic Search           663\n",
              "4  2016-08--03     Paid Search            63"
            ]
          },
          "metadata": {
            "tags": []
          },
          "execution_count": 113
        }
      ]
    },
    {
      "cell_type": "markdown",
      "metadata": {
        "id": "F9b1aygYYofB"
      },
      "source": [
        "Number of visitors by date (paid/ organic search) in different color schemas"
      ]
    },
    {
      "cell_type": "code",
      "metadata": {
        "id": "DNfmk_rla-SE",
        "outputId": "f65c1f6e-578f-4631-e800-afb77d506705",
        "colab": {
          "base_uri": "https://localhost:8080/",
          "height": 405
        }
      },
      "source": [
        "df_line = df\n",
        "df_plot = df_line.pivot('date', 'channel', 'visitors_num')\n",
        "df_plot.plot(figsize=(12, 6));\n",
        "ax.set_title(\"Visitors per day from Search channels\")\n",
        "ax.set_xlabel(\"Date\")\n",
        "ax.set_ylabel(\"Visitors\")"
      ],
      "execution_count": null,
      "outputs": [
        {
          "output_type": "execute_result",
          "data": {
            "text/plain": [
              "Text(20.200000000000003, 0.5, 'Visitors')"
            ]
          },
          "metadata": {
            "tags": []
          },
          "execution_count": 102
        },
        {
          "output_type": "display_data",
          "data": {
            "image/png": "[encoded data removed]",
            "text/plain": [
              "<Figure size 864x432 with 1 Axes>"
            ]
          },
          "metadata": {
            "tags": [],
            "needs_background": "light"
          }
        }
      ]
    },
    {
      "cell_type": "markdown",
      "metadata": {
        "id": "d5nf6tKUEifz"
      },
      "source": [
        "Paid search and Organic search"
      ]
    },
    {
      "cell_type": "code",
      "metadata": {
        "id": "nP4M2sN-QnEI",
        "outputId": "5a9d5368-4ae2-479a-f5bf-c87e7a4322dc",
        "colab": {
          "base_uri": "https://localhost:8080/",
          "height": 1000
        }
      },
      "source": [
        "pivot_table = df.pivot(index=\"date\", columns=\"visitors_num\", values=\"visitors_num\")\n",
        "bar_list = [ 'Blues', 'Blues_r', 'BuPu_r'] # list of styles for graphics\n",
        "for n, i in enumerate(bar_list):\n",
        "  pivot_table.plot(kind=\"bar\", stacked=True, colormap=bar_list[n], figsize=(12,6))\n",
        "ax.set_title(\"Visitors per day from Search channels\")\n",
        "ax.set_xlabel(\"Date\")\n",
        "ax.set_ylabel(\"Visitors\")"
      ],
      "execution_count": null,
      "outputs": [
        {
          "output_type": "execute_result",
          "data": {
            "text/plain": [
              "Text(20.200000000000003, 0.5, 'Visitors')"
            ]
          },
          "metadata": {
            "tags": []
          },
          "execution_count": 103
        },
        {
          "output_type": "display_data",
          "data": {
            "image/png": "[encoded data removed]",
            "text/plain": [
              "<Figure size 864x432 with 1 Axes>"
            ]
          },
          "metadata": {
            "tags": [],
            "needs_background": "light"
          }
        },
        {
          "output_type": "display_data",
          "data": {
            "image/png": "[encoded data removed]",
            "text/plain": [
              "<Figure size 864x432 with 1 Axes>"
            ]
          },
          "metadata": {
            "tags": [],
            "needs_background": "light"
          }
        },
        {
          "output_type": "display_data",
          "data": {
            "image/png": "[encoded data removed]",
            "text/plain": [
              "<Figure size 864x432 with 1 Axes>"
            ]
          },
          "metadata": {
            "tags": [],
            "needs_background": "light"
          }
        }
      ]
    },
    {
      "cell_type": "markdown",
      "metadata": {
        "id": "uyRsmWWmMjAI"
      },
      "source": [
        "Visitors per day from All channels\n"
      ]
    },
    {
      "cell_type": "code",
      "metadata": {
        "id": "jtTpflKjHoZh",
        "outputId": "4940db92-af45-45bb-e5ae-3024ee9d83f0",
        "colab": {
          "base_uri": "https://localhost:8080/",
          "height": 204
        }
      },
      "source": [
        "sql = \"\"\"SELECT distinct(date), count(totals.visits) as visitors_num, \n",
        "FROM `bigquery-public-data.google_analytics_sample.ga_sessions_*`\n",
        "GROUP BY date\n",
        "ORDER BY date\n",
        "LIMIT 20 \"\"\"\n",
        "\n",
        "df = get_data(sql)\n",
        "df.head()"
      ],
      "execution_count": null,
      "outputs": [
        {
          "output_type": "execute_result",
          "data": {
            "text/html": [
              "<div>\n",
              "<style scoped>\n",
              "    .dataframe tbody tr th:only-of-type {\n",
              "        vertical-align: middle;\n",
              "    }\n",
              "\n",
              "    .dataframe tbody tr th {\n",
              "        vertical-align: top;\n",
              "    }\n",
              "\n",
              "    .dataframe thead th {\n",
              "        text-align: right;\n",
              "    }\n",
              "</style>\n",
              "<table border=\"1\" class=\"dataframe\">\n",
              "  <thead>\n",
              "    <tr style=\"text-align: right;\">\n",
              "      <th></th>\n",
              "      <th>date</th>\n",
              "      <th>visitors_num</th>\n",
              "    </tr>\n",
              "  </thead>\n",
              "  <tbody>\n",
              "    <tr>\n",
              "      <th>0</th>\n",
              "      <td>2016-08--01</td>\n",
              "      <td>1711</td>\n",
              "    </tr>\n",
              "    <tr>\n",
              "      <th>1</th>\n",
              "      <td>2016-08--02</td>\n",
              "      <td>2140</td>\n",
              "    </tr>\n",
              "    <tr>\n",
              "      <th>2</th>\n",
              "      <td>2016-08--03</td>\n",
              "      <td>2890</td>\n",
              "    </tr>\n",
              "    <tr>\n",
              "      <th>3</th>\n",
              "      <td>2016-08--04</td>\n",
              "      <td>3161</td>\n",
              "    </tr>\n",
              "    <tr>\n",
              "      <th>4</th>\n",
              "      <td>2016-08--05</td>\n",
              "      <td>2702</td>\n",
              "    </tr>\n",
              "  </tbody>\n",
              "</table>\n",
              "</div>"
            ],
            "text/plain": [
              "          date  visitors_num\n",
              "0  2016-08--01          1711\n",
              "1  2016-08--02          2140\n",
              "2  2016-08--03          2890\n",
              "3  2016-08--04          3161\n",
              "4  2016-08--05          2702"
            ]
          },
          "metadata": {
            "tags": []
          },
          "execution_count": 114
        }
      ]
    },
    {
      "cell_type": "markdown",
      "metadata": {
        "id": "fABWPR7zZfdX"
      },
      "source": [
        "Bar chart - Number of visitors per day in different colors"
      ]
    },
    {
      "cell_type": "code",
      "metadata": {
        "id": "OZ9_Qld7H3k7",
        "outputId": "9efd1bde-10fa-4ab9-9c2d-0714f9927a3e",
        "colab": {
          "base_uri": "https://localhost:8080/",
          "height": 527
        }
      },
      "source": [
        "pivot_table = df_all_visitors.pivot(index=\"date\", columns=\"visitors_num\", values=\"visitors_num\")\n",
        "ax = pivot_table.plot(kind=\"bar\", stacked=True, colormap =  'Blues', figsize=(15, 7))\n",
        "ax.set_title(\"Visitors per day from all channels\")\n",
        "ax.set_xlabel(\"Date\")\n",
        "ax.set_ylabel(\"Visitors\")"
      ],
      "execution_count": null,
      "outputs": [
        {
          "output_type": "execute_result",
          "data": {
            "text/plain": [
              "Text(0, 0.5, 'Visitors')"
            ]
          },
          "metadata": {
            "tags": []
          },
          "execution_count": 105
        },
        {
          "output_type": "display_data",
          "data": {
            "image/png": "[encoded data removed]",
            "text/plain": [
              "<Figure size 1080x504 with 1 Axes>"
            ]
          },
          "metadata": {
            "tags": [],
            "needs_background": "light"
          }
        }
      ]
    }
  ]
}