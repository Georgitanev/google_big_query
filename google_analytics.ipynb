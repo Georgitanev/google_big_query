{
  "nbformat": 4,
  "nbformat_minor": 0,
  "metadata": {
    "colab": {
      "name": "google_analytics.ipynb",
      "provenance": [],
      "collapsed_sections": [],
      "authorship_tag": "ABX9TyNvX8vl/yvVgAzpXkd4MIJy",
      "include_colab_link": true
    },
    "kernelspec": {
      "name": "python3",
      "display_name": "Python 3"
    }
  },
  "cells": [
    {
      "cell_type": "markdown",
      "metadata": {
        "id": "view-in-github",
        "colab_type": "text"
      },
      "source": [
        "<a href=\"https://colab.research.google.com/github/Georgitanev/google_big_query/blob/main/google_analytics.ipynb\" target=\"_parent\"><img src=\"https://colab.research.google.com/assets/colab-badge.svg\" alt=\"Open In Colab\"/></a>"
      ]
    },
    {
      "cell_type": "markdown",
      "metadata": {
        "id": "kqzj74T0OA9i"
      },
      "source": [
        "**Table and graphics from Google Analytics public dataset**\n",
        "\n",
        "\n"
      ]
    },
    {
      "cell_type": "code",
      "metadata": {
        "id": "WGgVhVzd-YfP",
        "outputId": "02f3aacd-897f-45fe-97eb-04c7375c4794",
        "colab": {
          "base_uri": "https://localhost:8080/",
          "height": 151
        }
      },
      "source": [
        "import os\n",
        "import pandas as pd\n",
        "from google.cloud import bigquery\n",
        "import matplotlib.pyplot as plt\n",
        "\n",
        "\n",
        "json_path = \"/content/big-query-284408-e895d0eb5b23.json\"\n",
        "os.environ[\"GOOGLE_APPLICATION_CREDENTIALS\"]=json_path\n",
        "\n",
        "client = bigquery.Client()         # Start the BigQuery Client\n",
        "# Input your Query Syntax here; You may try it first at https://console.cloud.google.com/bigquery\n",
        "sql = \"\"\"SELECT *\n",
        "              FROM `bigquery-public-data.google_analytics_sample.ga_sessions_20170801`\n",
        "              LIMIT 1\"\"\"\n",
        "\n",
        "# I am using low limits, because I have some limits in Google Big Query\n",
        "df = client.query(sql).to_dataframe()\n",
        "df.head()\n",
        "\n",
        "# Explore data"
      ],
      "execution_count": 42,
      "outputs": [
        {
          "output_type": "execute_result",
          "data": {
            "text/html": [
              "<div>\n",
              "<style scoped>\n",
              "    .dataframe tbody tr th:only-of-type {\n",
              "        vertical-align: middle;\n",
              "    }\n",
              "\n",
              "    .dataframe tbody tr th {\n",
              "        vertical-align: top;\n",
              "    }\n",
              "\n",
              "    .dataframe thead th {\n",
              "        text-align: right;\n",
              "    }\n",
              "</style>\n",
              "<table border=\"1\" class=\"dataframe\">\n",
              "  <thead>\n",
              "    <tr style=\"text-align: right;\">\n",
              "      <th></th>\n",
              "      <th>visitorId</th>\n",
              "      <th>visitNumber</th>\n",
              "      <th>visitId</th>\n",
              "      <th>visitStartTime</th>\n",
              "      <th>date</th>\n",
              "      <th>totals</th>\n",
              "      <th>trafficSource</th>\n",
              "      <th>device</th>\n",
              "      <th>geoNetwork</th>\n",
              "      <th>customDimensions</th>\n",
              "      <th>hits</th>\n",
              "      <th>fullVisitorId</th>\n",
              "      <th>userId</th>\n",
              "      <th>clientId</th>\n",
              "      <th>channelGrouping</th>\n",
              "      <th>socialEngagementType</th>\n",
              "    </tr>\n",
              "  </thead>\n",
              "  <tbody>\n",
              "    <tr>\n",
              "      <th>0</th>\n",
              "      <td>None</td>\n",
              "      <td>1</td>\n",
              "      <td>1501583974</td>\n",
              "      <td>1501583974</td>\n",
              "      <td>20170801</td>\n",
              "      <td>{'visits': 1, 'hits': 1, 'pageviews': 1, 'time...</td>\n",
              "      <td>{'referralPath': None, 'campaign': '(not set)'...</td>\n",
              "      <td>{'browser': 'Chrome', 'browserVersion': 'not a...</td>\n",
              "      <td>{'continent': 'Americas', 'subContinent': 'Car...</td>\n",
              "      <td>[]</td>\n",
              "      <td>[{'hitNumber': 1, 'time': 0, 'hour': 3, 'minut...</td>\n",
              "      <td>2248281639583218707</td>\n",
              "      <td>None</td>\n",
              "      <td>None</td>\n",
              "      <td>Organic Search</td>\n",
              "      <td>Not Socially Engaged</td>\n",
              "    </tr>\n",
              "  </tbody>\n",
              "</table>\n",
              "</div>"
            ],
            "text/plain": [
              "  visitorId  visitNumber  ...  channelGrouping  socialEngagementType\n",
              "0      None            1  ...   Organic Search  Not Socially Engaged\n",
              "\n",
              "[1 rows x 16 columns]"
            ]
          },
          "metadata": {
            "tags": []
          },
          "execution_count": 42
        }
      ]
    },
    {
      "cell_type": "code",
      "metadata": {
        "id": "X0RbvnUZDSDH",
        "outputId": "83115469-a5cb-4e8f-c04e-63844a8a3e23",
        "colab": {
          "base_uri": "https://localhost:8080/",
          "height": 266
        }
      },
      "source": [
        "%%bigquery \n",
        "# this gives option to run BigQuery statements directly in Jupyter\n",
        "\n",
        "SELECT distinct(channelGrouping)\n",
        "FROM `bigquery-public-data.google_analytics_sample.ga_sessions_20170801`\n",
        "LIMIT 10"
      ],
      "execution_count": 43,
      "outputs": [
        {
          "output_type": "execute_result",
          "data": {
            "text/html": [
              "<div>\n",
              "<style scoped>\n",
              "    .dataframe tbody tr th:only-of-type {\n",
              "        vertical-align: middle;\n",
              "    }\n",
              "\n",
              "    .dataframe tbody tr th {\n",
              "        vertical-align: top;\n",
              "    }\n",
              "\n",
              "    .dataframe thead th {\n",
              "        text-align: right;\n",
              "    }\n",
              "</style>\n",
              "<table border=\"1\" class=\"dataframe\">\n",
              "  <thead>\n",
              "    <tr style=\"text-align: right;\">\n",
              "      <th></th>\n",
              "      <th>channelGrouping</th>\n",
              "    </tr>\n",
              "  </thead>\n",
              "  <tbody>\n",
              "    <tr>\n",
              "      <th>0</th>\n",
              "      <td>Organic Search</td>\n",
              "    </tr>\n",
              "    <tr>\n",
              "      <th>1</th>\n",
              "      <td>Direct</td>\n",
              "    </tr>\n",
              "    <tr>\n",
              "      <th>2</th>\n",
              "      <td>Referral</td>\n",
              "    </tr>\n",
              "    <tr>\n",
              "      <th>3</th>\n",
              "      <td>Paid Search</td>\n",
              "    </tr>\n",
              "    <tr>\n",
              "      <th>4</th>\n",
              "      <td>Display</td>\n",
              "    </tr>\n",
              "    <tr>\n",
              "      <th>5</th>\n",
              "      <td>Affiliates</td>\n",
              "    </tr>\n",
              "    <tr>\n",
              "      <th>6</th>\n",
              "      <td>Social</td>\n",
              "    </tr>\n",
              "  </tbody>\n",
              "</table>\n",
              "</div>"
            ],
            "text/plain": [
              "  channelGrouping\n",
              "0  Organic Search\n",
              "1          Direct\n",
              "2        Referral\n",
              "3     Paid Search\n",
              "4         Display\n",
              "5      Affiliates\n",
              "6          Social"
            ]
          },
          "metadata": {
            "tags": []
          },
          "execution_count": 43
        }
      ]
    },
    {
      "cell_type": "markdown",
      "metadata": {
        "id": "UABXeO384M98"
      },
      "source": [
        "Date,\tchannel,\tvisits,\ttransactions,\ttransaction revenue"
      ]
    },
    {
      "cell_type": "code",
      "metadata": {
        "id": "UHXLV-8m4JUj",
        "outputId": "243352f2-4780-448b-fd59-74ff00a73090",
        "colab": {
          "base_uri": "https://localhost:8080/",
          "height": 204
        }
      },
      "source": [
        "# query by BigQuery Google Analytics tutorial\n",
        "sql = \"\"\"SELECT\n",
        "                    date,\n",
        "                    channelGrouping as channel,\n",
        "                    totals.visits,\n",
        "                    totals.transactions,\n",
        "                    totals.transactionRevenue\n",
        "                    FROM `bigquery-public-data.google_analytics_sample.ga_sessions_20170801`\n",
        "                    LIMIT 5\"\"\"\n",
        "\n",
        "def get_data(sql):\n",
        "  df = client.query(sql).to_dataframe()\n",
        "  df['date'] = pd.to_datetime(df.date).dt.strftime('%Y-%m--%d')\n",
        "  return df\n",
        "\n",
        "df = get_data(sql)\n",
        "df.head()"
      ],
      "execution_count": 44,
      "outputs": [
        {
          "output_type": "execute_result",
          "data": {
            "text/html": [
              "<div>\n",
              "<style scoped>\n",
              "    .dataframe tbody tr th:only-of-type {\n",
              "        vertical-align: middle;\n",
              "    }\n",
              "\n",
              "    .dataframe tbody tr th {\n",
              "        vertical-align: top;\n",
              "    }\n",
              "\n",
              "    .dataframe thead th {\n",
              "        text-align: right;\n",
              "    }\n",
              "</style>\n",
              "<table border=\"1\" class=\"dataframe\">\n",
              "  <thead>\n",
              "    <tr style=\"text-align: right;\">\n",
              "      <th></th>\n",
              "      <th>date</th>\n",
              "      <th>channel</th>\n",
              "      <th>visits</th>\n",
              "      <th>transactions</th>\n",
              "      <th>transactionRevenue</th>\n",
              "    </tr>\n",
              "  </thead>\n",
              "  <tbody>\n",
              "    <tr>\n",
              "      <th>0</th>\n",
              "      <td>2017-08--01</td>\n",
              "      <td>Organic Search</td>\n",
              "      <td>1</td>\n",
              "      <td>None</td>\n",
              "      <td>None</td>\n",
              "    </tr>\n",
              "    <tr>\n",
              "      <th>1</th>\n",
              "      <td>2017-08--01</td>\n",
              "      <td>Organic Search</td>\n",
              "      <td>1</td>\n",
              "      <td>None</td>\n",
              "      <td>None</td>\n",
              "    </tr>\n",
              "    <tr>\n",
              "      <th>2</th>\n",
              "      <td>2017-08--01</td>\n",
              "      <td>Organic Search</td>\n",
              "      <td>1</td>\n",
              "      <td>None</td>\n",
              "      <td>None</td>\n",
              "    </tr>\n",
              "    <tr>\n",
              "      <th>3</th>\n",
              "      <td>2017-08--01</td>\n",
              "      <td>Direct</td>\n",
              "      <td>1</td>\n",
              "      <td>None</td>\n",
              "      <td>None</td>\n",
              "    </tr>\n",
              "    <tr>\n",
              "      <th>4</th>\n",
              "      <td>2017-08--01</td>\n",
              "      <td>Organic Search</td>\n",
              "      <td>1</td>\n",
              "      <td>None</td>\n",
              "      <td>None</td>\n",
              "    </tr>\n",
              "  </tbody>\n",
              "</table>\n",
              "</div>"
            ],
            "text/plain": [
              "          date         channel  visits transactions transactionRevenue\n",
              "0  2017-08--01  Organic Search       1         None               None\n",
              "1  2017-08--01  Organic Search       1         None               None\n",
              "2  2017-08--01  Organic Search       1         None               None\n",
              "3  2017-08--01          Direct       1         None               None\n",
              "4  2017-08--01  Organic Search       1         None               None"
            ]
          },
          "metadata": {
            "tags": []
          },
          "execution_count": 44
        }
      ]
    },
    {
      "cell_type": "markdown",
      "metadata": {
        "id": "1YBB4d9difRv"
      },
      "source": [
        "Select date, channel, visits, transactions and transaction revenue - first 100 results"
      ]
    },
    {
      "cell_type": "markdown",
      "metadata": {
        "id": "AusdPjCXnj83"
      },
      "source": [
        "Direct visitors and organic search data: ordered by transaction revenue\n"
      ]
    },
    {
      "cell_type": "code",
      "metadata": {
        "id": "bnxCr0venk0n",
        "outputId": "ee4c4402-a215-4d7f-8d1c-901f76d083d4",
        "colab": {
          "base_uri": "https://localhost:8080/",
          "height": 204
        }
      },
      "source": [
        "sql =\"\"\"SELECT\n",
        "                      date,\n",
        "                      channelGrouping as channel,\n",
        "                      totals.visits,\n",
        "                      totals.transactions,\n",
        "                      totals.transactionRevenue\n",
        "                      FROM `bigquery-public-data.google_analytics_sample.ga_sessions_20170801`\n",
        "                      WHERE channelGrouping in ('Direct', 'Organic Search')\n",
        "                      ORDER BY totals.transactionRevenue desc LIMIT 5\"\"\"\n",
        "\n",
        "df = get_data(sql)\n",
        "df.head()"
      ],
      "execution_count": 45,
      "outputs": [
        {
          "output_type": "execute_result",
          "data": {
            "text/html": [
              "<div>\n",
              "<style scoped>\n",
              "    .dataframe tbody tr th:only-of-type {\n",
              "        vertical-align: middle;\n",
              "    }\n",
              "\n",
              "    .dataframe tbody tr th {\n",
              "        vertical-align: top;\n",
              "    }\n",
              "\n",
              "    .dataframe thead th {\n",
              "        text-align: right;\n",
              "    }\n",
              "</style>\n",
              "<table border=\"1\" class=\"dataframe\">\n",
              "  <thead>\n",
              "    <tr style=\"text-align: right;\">\n",
              "      <th></th>\n",
              "      <th>date</th>\n",
              "      <th>channel</th>\n",
              "      <th>visits</th>\n",
              "      <th>transactions</th>\n",
              "      <th>transactionRevenue</th>\n",
              "    </tr>\n",
              "  </thead>\n",
              "  <tbody>\n",
              "    <tr>\n",
              "      <th>0</th>\n",
              "      <td>2017-08--01</td>\n",
              "      <td>Direct</td>\n",
              "      <td>1</td>\n",
              "      <td>1</td>\n",
              "      <td>1000780000</td>\n",
              "    </tr>\n",
              "    <tr>\n",
              "      <th>1</th>\n",
              "      <td>2017-08--01</td>\n",
              "      <td>Direct</td>\n",
              "      <td>1</td>\n",
              "      <td>1</td>\n",
              "      <td>982730000</td>\n",
              "    </tr>\n",
              "    <tr>\n",
              "      <th>2</th>\n",
              "      <td>2017-08--01</td>\n",
              "      <td>Organic Search</td>\n",
              "      <td>1</td>\n",
              "      <td>1</td>\n",
              "      <td>400210000</td>\n",
              "    </tr>\n",
              "    <tr>\n",
              "      <th>3</th>\n",
              "      <td>2017-08--01</td>\n",
              "      <td>Direct</td>\n",
              "      <td>1</td>\n",
              "      <td>1</td>\n",
              "      <td>347140000</td>\n",
              "    </tr>\n",
              "    <tr>\n",
              "      <th>4</th>\n",
              "      <td>2017-08--01</td>\n",
              "      <td>Organic Search</td>\n",
              "      <td>1</td>\n",
              "      <td>1</td>\n",
              "      <td>169900000</td>\n",
              "    </tr>\n",
              "  </tbody>\n",
              "</table>\n",
              "</div>"
            ],
            "text/plain": [
              "          date         channel  visits  transactions  transactionRevenue\n",
              "0  2017-08--01          Direct       1             1          1000780000\n",
              "1  2017-08--01          Direct       1             1           982730000\n",
              "2  2017-08--01  Organic Search       1             1           400210000\n",
              "3  2017-08--01          Direct       1             1           347140000\n",
              "4  2017-08--01  Organic Search       1             1           169900000"
            ]
          },
          "metadata": {
            "tags": []
          },
          "execution_count": 45
        }
      ]
    },
    {
      "cell_type": "markdown",
      "metadata": {
        "id": "eWxR6jPYofeA"
      },
      "source": [
        "Aggregate transaction totals"
      ]
    },
    {
      "cell_type": "code",
      "metadata": {
        "id": "KCjzarxwogL3",
        "outputId": "17bf119d-b730-4782-da98-5c3e0763dbfe",
        "colab": {
          "base_uri": "https://localhost:8080/",
          "height": 204
        }
      },
      "source": [
        "# query by BigQuery Google Analytics tutorial\n",
        "query_organic_direct = \"\"\"SELECT date, channelGrouping as channel,\n",
        "                                          sum(totals.visits) as visits, \n",
        "                                          CASE WHEN sum(totals.visits) > 0 THEN sum(totals.transactions) / sum(totals.visits) \n",
        "                                          ELSE 0 END as conv_rate, \n",
        "                                          sum(totals.transactions) as transactions, \n",
        "                                          CASE WHEN sum(totals.transactions) > 0 THEN\n",
        "                                          sum(totals.transactionRevenue) / sum(totals.transactions)\n",
        "                                          ELSE 0 END as aov,\n",
        "                                          sum(totals.transactionRevenue) as revenue \n",
        "                                          FROM `bigquery-public-data.google_analytics_sample.ga_sessions_20170801`\n",
        "                                          WHERE channelGrouping in ('Organic Search', 'Direct') \n",
        "                                          GROUP BY date, channel\n",
        "                                          ORDER BY transactions \n",
        "                                          desc LIMIT 1000\"\"\"\n",
        "\n",
        "df = get_data(sql)\n",
        "df.head()"
      ],
      "execution_count": 46,
      "outputs": [
        {
          "output_type": "execute_result",
          "data": {
            "text/html": [
              "<div>\n",
              "<style scoped>\n",
              "    .dataframe tbody tr th:only-of-type {\n",
              "        vertical-align: middle;\n",
              "    }\n",
              "\n",
              "    .dataframe tbody tr th {\n",
              "        vertical-align: top;\n",
              "    }\n",
              "\n",
              "    .dataframe thead th {\n",
              "        text-align: right;\n",
              "    }\n",
              "</style>\n",
              "<table border=\"1\" class=\"dataframe\">\n",
              "  <thead>\n",
              "    <tr style=\"text-align: right;\">\n",
              "      <th></th>\n",
              "      <th>date</th>\n",
              "      <th>channel</th>\n",
              "      <th>visits</th>\n",
              "      <th>transactions</th>\n",
              "      <th>transactionRevenue</th>\n",
              "    </tr>\n",
              "  </thead>\n",
              "  <tbody>\n",
              "    <tr>\n",
              "      <th>0</th>\n",
              "      <td>2017-08--01</td>\n",
              "      <td>Direct</td>\n",
              "      <td>1</td>\n",
              "      <td>1</td>\n",
              "      <td>1000780000</td>\n",
              "    </tr>\n",
              "    <tr>\n",
              "      <th>1</th>\n",
              "      <td>2017-08--01</td>\n",
              "      <td>Direct</td>\n",
              "      <td>1</td>\n",
              "      <td>1</td>\n",
              "      <td>982730000</td>\n",
              "    </tr>\n",
              "    <tr>\n",
              "      <th>2</th>\n",
              "      <td>2017-08--01</td>\n",
              "      <td>Organic Search</td>\n",
              "      <td>1</td>\n",
              "      <td>1</td>\n",
              "      <td>400210000</td>\n",
              "    </tr>\n",
              "    <tr>\n",
              "      <th>3</th>\n",
              "      <td>2017-08--01</td>\n",
              "      <td>Direct</td>\n",
              "      <td>1</td>\n",
              "      <td>1</td>\n",
              "      <td>347140000</td>\n",
              "    </tr>\n",
              "    <tr>\n",
              "      <th>4</th>\n",
              "      <td>2017-08--01</td>\n",
              "      <td>Organic Search</td>\n",
              "      <td>1</td>\n",
              "      <td>1</td>\n",
              "      <td>169900000</td>\n",
              "    </tr>\n",
              "  </tbody>\n",
              "</table>\n",
              "</div>"
            ],
            "text/plain": [
              "          date         channel  visits  transactions  transactionRevenue\n",
              "0  2017-08--01          Direct       1             1          1000780000\n",
              "1  2017-08--01          Direct       1             1           982730000\n",
              "2  2017-08--01  Organic Search       1             1           400210000\n",
              "3  2017-08--01          Direct       1             1           347140000\n",
              "4  2017-08--01  Organic Search       1             1           169900000"
            ]
          },
          "metadata": {
            "tags": []
          },
          "execution_count": 46
        }
      ]
    },
    {
      "cell_type": "markdown",
      "metadata": {
        "id": "q3WXgnM_XpDv"
      },
      "source": [
        "**all channels**\n"
      ]
    },
    {
      "cell_type": "markdown",
      "metadata": {
        "id": "3x-ZHvqwARBd"
      },
      "source": [
        "Number of visitors per date, by channel - Organic Search and Paid Search"
      ]
    },
    {
      "cell_type": "code",
      "metadata": {
        "id": "__bvPJ4p-uAF",
        "outputId": "a0532220-80f3-41b2-b0db-c12006cfd579",
        "colab": {
          "base_uri": "https://localhost:8080/",
          "height": 204
        }
      },
      "source": [
        "sql = \"\"\"SELECT distinct(date), channelGrouping as channel, count(totals.visits) as visitors_num, \n",
        "FROM `bigquery-public-data.google_analytics_sample.ga_sessions_*`\n",
        "WHERE channelGrouping like '%Search'\n",
        "GROUP BY date, channel\n",
        "ORDER BY date\n",
        "LIMIT 20 \"\"\"\n",
        "\n",
        "df = get_data(sql)\n",
        "df.head()\n",
        "\n"
      ],
      "execution_count": 47,
      "outputs": [
        {
          "output_type": "execute_result",
          "data": {
            "text/html": [
              "<div>\n",
              "<style scoped>\n",
              "    .dataframe tbody tr th:only-of-type {\n",
              "        vertical-align: middle;\n",
              "    }\n",
              "\n",
              "    .dataframe tbody tr th {\n",
              "        vertical-align: top;\n",
              "    }\n",
              "\n",
              "    .dataframe thead th {\n",
              "        text-align: right;\n",
              "    }\n",
              "</style>\n",
              "<table border=\"1\" class=\"dataframe\">\n",
              "  <thead>\n",
              "    <tr style=\"text-align: right;\">\n",
              "      <th></th>\n",
              "      <th>date</th>\n",
              "      <th>channel</th>\n",
              "      <th>visitors_num</th>\n",
              "    </tr>\n",
              "  </thead>\n",
              "  <tbody>\n",
              "    <tr>\n",
              "      <th>0</th>\n",
              "      <td>2016-08--01</td>\n",
              "      <td>Organic Search</td>\n",
              "      <td>362</td>\n",
              "    </tr>\n",
              "    <tr>\n",
              "      <th>1</th>\n",
              "      <td>2016-08--01</td>\n",
              "      <td>Paid Search</td>\n",
              "      <td>25</td>\n",
              "    </tr>\n",
              "    <tr>\n",
              "      <th>2</th>\n",
              "      <td>2016-08--02</td>\n",
              "      <td>Paid Search</td>\n",
              "      <td>48</td>\n",
              "    </tr>\n",
              "    <tr>\n",
              "      <th>3</th>\n",
              "      <td>2016-08--02</td>\n",
              "      <td>Organic Search</td>\n",
              "      <td>663</td>\n",
              "    </tr>\n",
              "    <tr>\n",
              "      <th>4</th>\n",
              "      <td>2016-08--03</td>\n",
              "      <td>Organic Search</td>\n",
              "      <td>903</td>\n",
              "    </tr>\n",
              "  </tbody>\n",
              "</table>\n",
              "</div>"
            ],
            "text/plain": [
              "          date         channel  visitors_num\n",
              "0  2016-08--01  Organic Search           362\n",
              "1  2016-08--01     Paid Search            25\n",
              "2  2016-08--02     Paid Search            48\n",
              "3  2016-08--02  Organic Search           663\n",
              "4  2016-08--03  Organic Search           903"
            ]
          },
          "metadata": {
            "tags": []
          },
          "execution_count": 47
        }
      ]
    },
    {
      "cell_type": "markdown",
      "metadata": {
        "id": "F9b1aygYYofB"
      },
      "source": [
        "Number of visitors by date (paid/ organic search) in different color schemas"
      ]
    },
    {
      "cell_type": "code",
      "metadata": {
        "id": "DNfmk_rla-SE",
        "outputId": "a855a870-e28f-4503-a454-f35be73f26f1",
        "colab": {
          "base_uri": "https://localhost:8080/",
          "height": 405
        }
      },
      "source": [
        "df_line = df\n",
        "df_plot = df_line.pivot('date', 'channel', 'visitors_num')\n",
        "df_plot.plot(figsize=(12, 6));\n",
        "fig = plt.Figure()\n",
        "ax = fig.add_subplot()\n",
        "ax.set_title('Visitors per day from Search channels')"
      ],
      "execution_count": 48,
      "outputs": [
        {
          "output_type": "execute_result",
          "data": {
            "text/plain": [
              "Text(0.5, 1.0, 'Visitors per day from Search channels')"
            ]
          },
          "metadata": {
            "tags": []
          },
          "execution_count": 48
        },
        {
          "output_type": "display_data",
          "data": {
            "image/png": "[encoded data removed]",
            "text/plain": [
              "<Figure size 864x432 with 1 Axes>"
            ]
          },
          "metadata": {
            "tags": [],
            "needs_background": "light"
          }
        }
      ]
    },
    {
      "cell_type": "markdown",
      "metadata": {
        "id": "d5nf6tKUEifz"
      },
      "source": [
        "Paid search and Organic search"
      ]
    },
    {
      "cell_type": "code",
      "metadata": {
        "id": "nP4M2sN-QnEI",
        "outputId": "e9952829-8980-43cd-ac45-78ec510f1b21",
        "colab": {
          "base_uri": "https://localhost:8080/",
          "height": 1000
        }
      },
      "source": [
        "pivot_table = df.pivot(index=\"date\", columns=\"visitors_num\", values=\"visitors_num\")\n",
        "bar_list = [ 'Blues', 'Blues_r', 'BuPu_r'] # list of styles for graphics\n",
        "for n, i in enumerate(bar_list):\n",
        "  pivot_table.plot(kind=\"bar\", stacked=True, colormap=bar_list[n], figsize=(12,6))\n",
        "ax.set_title(\"Visitors per day from Search channels\")\n",
        "ax.set_xlabel(\"Date\")\n",
        "ax.set_ylabel(\"Visitors\")"
      ],
      "execution_count": 49,
      "outputs": [
        {
          "output_type": "execute_result",
          "data": {
            "text/plain": [
              "Text(0, 0.5, 'Visitors')"
            ]
          },
          "metadata": {
            "tags": []
          },
          "execution_count": 49
        },
        {
          "output_type": "display_data",
          "data": {
            "image/png": "[encoded data removed]",
            "text/plain": [
              "<Figure size 864x432 with 1 Axes>"
            ]
          },
          "metadata": {
            "tags": [],
            "needs_background": "light"
          }
        },
        {
          "output_type": "display_data",
          "data": {
            "image/png": "[encoded data removed]",
            "text/plain": [
              "<Figure size 864x432 with 1 Axes>"
            ]
          },
          "metadata": {
            "tags": [],
            "needs_background": "light"
          }
        },
        {
          "output_type": "display_data",
          "data": {
            "image/png": "[encoded data removed]",
            "text/plain": [
              "<Figure size 864x432 with 1 Axes>"
            ]
          },
          "metadata": {
            "tags": [],
            "needs_background": "light"
          }
        }
      ]
    },
    {
      "cell_type": "markdown",
      "metadata": {
        "id": "uyRsmWWmMjAI"
      },
      "source": [
        "Visitors per day from All channels\n"
      ]
    },
    {
      "cell_type": "code",
      "metadata": {
        "id": "jtTpflKjHoZh",
        "outputId": "0ef28312-da13-45e1-99dc-c1e815407008",
        "colab": {
          "base_uri": "https://localhost:8080/",
          "height": 204
        }
      },
      "source": [
        "sql = \"\"\"SELECT distinct(date), count(totals.visits) as visitors_num, \n",
        "FROM `bigquery-public-data.google_analytics_sample.ga_sessions_*`\n",
        "GROUP BY date\n",
        "ORDER BY date\n",
        "LIMIT 20 \"\"\"\n",
        "\n",
        "df_all_visitors = get_data(sql)\n",
        "df_all_visitors.head()"
      ],
      "execution_count": 50,
      "outputs": [
        {
          "output_type": "execute_result",
          "data": {
            "text/html": [
              "<div>\n",
              "<style scoped>\n",
              "    .dataframe tbody tr th:only-of-type {\n",
              "        vertical-align: middle;\n",
              "    }\n",
              "\n",
              "    .dataframe tbody tr th {\n",
              "        vertical-align: top;\n",
              "    }\n",
              "\n",
              "    .dataframe thead th {\n",
              "        text-align: right;\n",
              "    }\n",
              "</style>\n",
              "<table border=\"1\" class=\"dataframe\">\n",
              "  <thead>\n",
              "    <tr style=\"text-align: right;\">\n",
              "      <th></th>\n",
              "      <th>date</th>\n",
              "      <th>visitors_num</th>\n",
              "    </tr>\n",
              "  </thead>\n",
              "  <tbody>\n",
              "    <tr>\n",
              "      <th>0</th>\n",
              "      <td>2016-08--01</td>\n",
              "      <td>1711</td>\n",
              "    </tr>\n",
              "    <tr>\n",
              "      <th>1</th>\n",
              "      <td>2016-08--02</td>\n",
              "      <td>2140</td>\n",
              "    </tr>\n",
              "    <tr>\n",
              "      <th>2</th>\n",
              "      <td>2016-08--03</td>\n",
              "      <td>2890</td>\n",
              "    </tr>\n",
              "    <tr>\n",
              "      <th>3</th>\n",
              "      <td>2016-08--04</td>\n",
              "      <td>3161</td>\n",
              "    </tr>\n",
              "    <tr>\n",
              "      <th>4</th>\n",
              "      <td>2016-08--05</td>\n",
              "      <td>2702</td>\n",
              "    </tr>\n",
              "  </tbody>\n",
              "</table>\n",
              "</div>"
            ],
            "text/plain": [
              "          date  visitors_num\n",
              "0  2016-08--01          1711\n",
              "1  2016-08--02          2140\n",
              "2  2016-08--03          2890\n",
              "3  2016-08--04          3161\n",
              "4  2016-08--05          2702"
            ]
          },
          "metadata": {
            "tags": []
          },
          "execution_count": 50
        }
      ]
    },
    {
      "cell_type": "markdown",
      "metadata": {
        "id": "fABWPR7zZfdX"
      },
      "source": [
        "Bar chart - Number of visitors per day in different colors"
      ]
    },
    {
      "cell_type": "code",
      "metadata": {
        "id": "OZ9_Qld7H3k7",
        "outputId": "14109695-b391-4fd6-d123-2010419ab528",
        "colab": {
          "base_uri": "https://localhost:8080/",
          "height": 527
        }
      },
      "source": [
        "pivot_table = df_all_visitors.pivot(index=\"date\", columns=\"visitors_num\", values=\"visitors_num\")\n",
        "ax = pivot_table.plot(kind=\"bar\", stacked=True, colormap =  'Blues', figsize=(15, 7))\n",
        "ax.set_title(\"Visitors per day from all channels\")\n",
        "ax.set_xlabel(\"Date\")\n",
        "ax.set_ylabel(\"Visitors\")"
      ],
      "execution_count": 51,
      "outputs": [
        {
          "output_type": "execute_result",
          "data": {
            "text/plain": [
              "Text(0, 0.5, 'Visitors')"
            ]
          },
          "metadata": {
            "tags": []
          },
          "execution_count": 51
        },
        {
          "output_type": "display_data",
          "data": {
            "image/png": "[encoded data removed]",
            "text/plain": [
              "<Figure size 1080x504 with 1 Axes>"
            ]
          },
          "metadata": {
            "tags": [],
            "needs_background": "light"
          }
        }
      ]
    }
  ]
}